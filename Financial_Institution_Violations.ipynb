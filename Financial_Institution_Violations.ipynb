{
 "cells": [
  {
   "cell_type": "code",
   "execution_count": 2,
   "metadata": {},
   "outputs": [],
   "source": [
    "import pandas as pd \n",
    "import requests\n",
    "import numpy as np\n",
    "import re\n",
    "import warnings\n",
    "from pandas import json_normalize\n"
   ]
  },
  {
   "cell_type": "code",
   "execution_count": 3,
   "metadata": {},
   "outputs": [
    {
     "name": "stdout",
     "output_type": "stream",
     "text": [
      "True\n"
     ]
    }
   ],
   "source": [
    "import os.path\n",
    "\n",
    "file_exists = os.path.exists(\"inst_full.csv\")\n",
    "\n",
    "print(file_exists)"
   ]
  },
  {
   "attachments": {},
   "cell_type": "markdown",
   "metadata": {},
   "source": [
    "THE CELL BEOW CHECKS TO SEE IF YOU ALREADY HAVE THE DATA AND IF NOT SENDS GET REQUESTS TO THE API\n",
    "\n",
    "NOTE - THIS DOES NOT CHECK TO ENSURE THE FILE IS CURRENT OR FREE OF ERRORS.  IF YOU WOULD LIKE TO UPDATE YOUR FILE OR YOU ARE CONCERNED THAT YOUR FILE HAS ERRORS, SIMPLY DELETE YOUR FILE AND A NEW, UPDATED FILE WILL BE CREATED."
   ]
  },
  {
   "attachments": {},
   "cell_type": "markdown",
   "metadata": {},
   "source": [
    "KNOWLEDGE CHECK 2 - See the last 20 lines in the cell below (most of the code in the ELSE statement).  This cleans the data by checking for columns with mixed data types and converting the entire column to strings.  It converts the data type, but also displays an error to identify the affected columns.  This is a solution I found on stackoverflow that I wanted to implement in my code."
   ]
  },
  {
   "cell_type": "code",
   "execution_count": 4,
   "metadata": {},
   "outputs": [
    {
     "name": "stdout",
     "output_type": "stream",
     "text": [
      "FILE ALREADY EXISTS\n",
      "Warnings raised: []\n"
     ]
    },
    {
     "name": "stderr",
     "output_type": "stream",
     "text": [
      "C:\\Users\\mjlaw\\AppData\\Local\\Temp\\ipykernel_29156\\3671726210.py:82: DtypeWarning: Columns (108,109,110,152) have mixed types. Specify dtype option on import or set low_memory=False.\n",
      "  df = pd.read_csv('inst_full.csv')\n"
     ]
    }
   ],
   "source": [
    "\n",
    "import pandas\n",
    "\n",
    "\n",
    "if file_exists == False:\n",
    "    print(\"FILE DOES NOT EXIST\")\n",
    "\n",
    "    response_API = requests.get('https://banks.data.fdic.gov/api/institutions?limit=10000&offset=0')\n",
    "    #print(response_API.status_code)\n",
    "\n",
    "    response_API2 = requests.get('https://banks.data.fdic.gov/api/institutions?limit=10000&offset=10000')\n",
    "    #print(response_API2.status_code)\n",
    "\n",
    "    response_API3 = requests.get('https://banks.data.fdic.gov/api/institutions?limit=10000&offset=20000')\n",
    "    #print(response_API3.status_code)\n",
    "\n",
    "    print(\"Get request sucessful from API\")\n",
    "\n",
    "\n",
    "    data = response_API.json()\n",
    "    #print(type(data))\n",
    "\n",
    "    data2 = response_API2.json()\n",
    "    #print(type(data2))\n",
    "\n",
    "    data3 = response_API3.json()\n",
    "    #print(type(data3))\n",
    "\n",
    "\n",
    "\n",
    "    institution_df = json_normalize(data['data'])\n",
    "    #print(institution_df.head())\n",
    "    #institution_df.to_csv('inst.csv')\n",
    "\n",
    "    institution_df2 = json_normalize(data2['data'])\n",
    "    #print(institution_df2.head())\n",
    "    #institution_df2.to_csv('inst2.csv')\n",
    "\n",
    "    institution_df3 = json_normalize(data3['data'])\n",
    "    #print(institution_df3.head())\n",
    "    #institution_df3.to_csv('inst3.csv')\n",
    "    \n",
    "    print(\"Data from API converted to json\")\n",
    "\n",
    "\n",
    "    institution_df = institution_df.reindex(sorted(institution_df.columns), axis=1)\n",
    "    institution_df2 = institution_df2.reindex(sorted(institution_df2.columns), axis=1)\n",
    "    institution_df3 = institution_df3.reindex(sorted(institution_df3.columns), axis=1)\n",
    "\n",
    "\n",
    "\n",
    "    full_data = [institution_df, institution_df2, institution_df3]\n",
    "    df = pd.concat(full_data)\n",
    "    df.columns = df.columns.str.lstrip(\"data.\")\n",
    "    df.to_csv('inst_full.csv')\n",
    "    \n",
    "    print(\"New file created, shape should be (27816, 168)\")\n",
    "    print(df.shape)\n",
    "    \n",
    "\n",
    "else:\n",
    "    print(\"FILE ALREADY EXISTS\")\n",
    "\n",
    "    myfile = 'inst_full.csv'\n",
    "    target_type = str  # The desired output type\n",
    "\n",
    "    with warnings.catch_warnings(record=True) as ws:\n",
    "        warnings.simplefilter(\"always\")\n",
    "\n",
    "        mydata = pandas.read_csv(myfile, sep=\"|\", header=None)\n",
    "        print(\"Warnings raised:\", ws)\n",
    "        # We have an error on specific columns, try and load them as string\n",
    "        for w in ws:\n",
    "            s = str(w.message)\n",
    "            print(\"Warning message:\", s)\n",
    "            match = re.search(r\"Columns \\(([0-9,]+)\\) have mixed types\\.\", s)\n",
    "            if match:\n",
    "                columns = match.group(1).split(',') # Get columns as a list\n",
    "                columns = [int(c) for c in columns]\n",
    "                print(\"Applying %s dtype to columns:\" % target_type, columns)\n",
    "                mydata.iloc[:,columns] = mydata.iloc[:,columns].astype(target_type)\n",
    "\n",
    "    df = pd.read_csv('inst_full.csv')\n",
    "    "
   ]
  },
  {
   "cell_type": "code",
   "execution_count": 5,
   "metadata": {},
   "outputs": [],
   "source": [
    "#full_df = institution_df.append(institution_df.append(institution_df3))\n",
    "#.append is being deprecated - use .concat instead"
   ]
  },
  {
   "attachments": {},
   "cell_type": "markdown",
   "metadata": {},
   "source": [
    "Knowledge Check 2 - Reformating the column names so they are all lower case and spaces are replaced with an underscore"
   ]
  },
  {
   "cell_type": "code",
   "execution_count": 6,
   "metadata": {},
   "outputs": [],
   "source": [
    "#print(df.columns)\n",
    "df.columns= df.columns.str.lower()\n",
    "df.columns = df.columns.str.replace(' ', '_')\n",
    "#print(df.columns)"
   ]
  },
  {
   "cell_type": "code",
   "execution_count": 7,
   "metadata": {},
   "outputs": [
    {
     "name": "stdout",
     "output_type": "stream",
     "text": [
      "There are 27816 institutuions with data on the FDIC's API.\n",
      "\n",
      "There are 23098 active institutions registered with the FDIC.\n",
      "\n",
      "There are 4718 inactive institutions registered with the FDIC.\n",
      "\n"
     ]
    }
   ],
   "source": [
    "bank_count = len(df)\n",
    "print(\"There are\", bank_count, \"institutuions with data on the FDIC's API.\\n\")\n",
    "\n",
    "active = df['active'].value_counts()[0]\n",
    "print(\"There are\", active, \"active institutions registered with the FDIC.\\n\")\n",
    "\n",
    "inactive = df['active'].value_counts()[1]\n",
    "print(\"There are\", inactive, \"inactive institutions registered with the FDIC.\\n\")"
   ]
  },
  {
   "cell_type": "code",
   "execution_count": 8,
   "metadata": {},
   "outputs": [
    {
     "name": "stdout",
     "output_type": "stream",
     "text": [
      "23098\n",
      "   unnamed:_0  active                          address address2     asset  \\\n",
      "0           0       0              8 Washington Street      NaN       NaN   \n",
      "1           1       0                201 N.E. A Street      NaN  712714.0   \n",
      "2           2       0              1701 Warwood Avenue      NaN  338215.0   \n",
      "3           3       0               1 East Main Street      NaN  126549.0   \n",
      "5           5       0  Broadway And West Walnut Street      NaN  227248.0   \n",
      "\n",
      "  bkclass  callform   cb                                cbsa cbsa_div  ...  \\\n",
      "0      SM       NaN  NaN         Portland-South Portland, ME      NaN  ...   \n",
      "1      SM      41.0  0.0  Fayetteville-Springdale-Rogers, AR      NaN  ...   \n",
      "2       N      41.0  1.0                     Wheeling, WV-OH      NaN  ...   \n",
      "3      SM      33.0  0.0                                 NaN      NaN  ...   \n",
      "5      NM      33.0  0.0                       Green Bay, WI      NaN  ...   \n",
      "\n",
      "   ultcert  uninum  webaddr    zip count  score  changec12  changec13  \\\n",
      "0     3510       5      NaN   4073   NaN      1        NaN        NaN   \n",
      "1     8728      80      NaN  72712   NaN      1        NaN        NaN   \n",
      "2     7848    6392      NaN  26003   NaN      1        NaN        NaN   \n",
      "3    11063    6393      NaN  24986   NaN      1        NaN        NaN   \n",
      "5    16571    6395      NaN  54306   NaN      1        NaN        NaN   \n",
      "\n",
      "  changec14 changec15  \n",
      "0       NaN       NaN  \n",
      "1       NaN       NaN  \n",
      "2       NaN       NaN  \n",
      "3       NaN       NaN  \n",
      "5       NaN       NaN  \n",
      "\n",
      "[5 rows x 169 columns]\n"
     ]
    }
   ],
   "source": [
    "active_df = df[df.active == 0]\n",
    "print(len(active_df))\n",
    "print(active_df.head())"
   ]
  },
  {
   "cell_type": "code",
   "execution_count": 9,
   "metadata": {},
   "outputs": [
    {
     "name": "stdout",
     "output_type": "stream",
     "text": [
      "4718\n",
      "    unnamed:_0  active             address address2      asset bkclass  \\\n",
      "4            4       1       86 E Water St      NaN   144049.0      NM   \n",
      "11          11       1        403 W 8th St      NaN   382346.0      NM   \n",
      "12          12       1  1155 County Road D      NaN   207276.0      NM   \n",
      "15          15       1       112 E Main St      NaN   150653.0      NM   \n",
      "32          32       1       130 S Main St      NaN  2593020.0       N   \n",
      "\n",
      "    callform   cb               cbsa cbsa_div  ...  ultcert  uninum  \\\n",
      "4       51.0  1.0                NaN      NaN  ...    10004    6394   \n",
      "11      51.0  1.0        Madison, WI      NaN  ...    10011    6400   \n",
      "12      51.0  1.0  Stevens Point, WI      NaN  ...    10012    6401   \n",
      "15      51.0  1.0     Eau Claire, WI      NaN  ...    10015    6404   \n",
      "32      51.0  1.0    Fond du Lac, WI      NaN  ...    10044    6419   \n",
      "\n",
      "                             webaddr    zip count  score  changec12  \\\n",
      "4            http://www.ergobank.com  53946   NaN      1        NaN   \n",
      "11         www.woodfordstatebank.com  53566   NaN      1        NaN   \n",
      "12  http://www.PORTAGECOUNTYBANK.COM  54909   NaN      1        NaN   \n",
      "15        www.securityonlinebank.com  54757   NaN      1        NaN   \n",
      "32             https://www.nebat.com  54935   NaN      1        NaN   \n",
      "\n",
      "    changec13 changec14 changec15  \n",
      "4         NaN       NaN       NaN  \n",
      "11        NaN       NaN       NaN  \n",
      "12        NaN       NaN       NaN  \n",
      "15        NaN       NaN       NaN  \n",
      "32        NaN       NaN       NaN  \n",
      "\n",
      "[5 rows x 169 columns]\n"
     ]
    }
   ],
   "source": [
    "inactive_df = df[df.active == 1]\n",
    "print(len(inactive_df))\n",
    "print(inactive_df.head())"
   ]
  },
  {
   "cell_type": "code",
   "execution_count": 10,
   "metadata": {},
   "outputs": [
    {
     "name": "stdout",
     "output_type": "stream",
     "text": [
      "The minimum assets held by an active FDIC registered institution are $1.00 \n",
      "\n",
      "The maximum assets held by an active FDIC registered institution are $510,083,000.00 \n",
      "\n",
      "The average assets held by an active FDIC registered institution are $787,717.14 \n",
      "\n"
     ]
    }
   ],
   "source": [
    "min = \"{:,.2f}\".format(active_df[\"asset\"].min())\n",
    "max = \"{:,.2f}\".format(active_df[\"asset\"].max())\n",
    "mean = \"{:,.2f}\".format(active_df[\"asset\"].mean())\n",
    "\n",
    "print(\"The minimum assets held by an active FDIC registered institution are ${} \\n\".format(min))\n",
    "print(\"The maximum assets held by an active FDIC registered institution are ${} \\n\".format(max))\n",
    "print(\"The average assets held by an active FDIC registered institution are ${} \\n\".format(mean))"
   ]
  },
  {
   "cell_type": "code",
   "execution_count": 11,
   "metadata": {},
   "outputs": [
    {
     "name": "stdout",
     "output_type": "stream",
     "text": [
      "The minimum assets held by an inactive FDIC registered institution are $3,134.00 \n",
      "\n",
      "The maximum assets held by an inactive FDIC registered institution are $3,308,575,000.00 \n",
      "\n",
      "The average assets held by an inactive FDIC registered institution are $4,987,805.79 \n",
      "\n"
     ]
    }
   ],
   "source": [
    "min = \"{:,.2f}\".format(inactive_df[\"asset\"].min())\n",
    "max = \"{:,.2f}\".format(inactive_df[\"asset\"].max())\n",
    "mean = \"{:,.2f}\".format(inactive_df[\"asset\"].mean())\n",
    "\n",
    "print(\"The minimum assets held by an inactive FDIC registered institution are ${} \\n\".format(min))\n",
    "print(\"The maximum assets held by an inactive FDIC registered institution are ${} \\n\".format(max))\n",
    "print(\"The average assets held by an inactive FDIC registered institution are ${} \\n\".format(mean))"
   ]
  },
  {
   "cell_type": "code",
   "execution_count": 12,
   "metadata": {},
   "outputs": [
    {
     "name": "stdout",
     "output_type": "stream",
     "text": [
      "The minimum assets held by an FDIC registered institution are $1.00 \n",
      "\n",
      "The maximum assets held by an FDIC registered institution are $3,308,575,000.00 \n",
      "\n",
      "The average assets held by an FDIC registered institution are $1,618,986.53 \n",
      "\n"
     ]
    }
   ],
   "source": [
    "min = \"{:,.2f}\".format(df[\"asset\"].min())\n",
    "max = \"{:,.2f}\".format(df[\"asset\"].max())\n",
    "mean = \"{:,.2f}\".format(df[\"asset\"].mean().round(2))\n",
    "\n",
    "print(\"The minimum assets held by an FDIC registered institution are ${} \\n\".format(min))\n",
    "print(\"The maximum assets held by an FDIC registered institution are ${} \\n\".format(max))\n",
    "print(\"The average assets held by an FDIC registered institution are ${} \\n\".format(mean))"
   ]
  },
  {
   "cell_type": "code",
   "execution_count": 13,
   "metadata": {},
   "outputs": [
    {
     "data": {
      "text/plain": [
       "'\\n\\nStandarad deviation for later analysis\\n\\nstd = df[\"data.ASSET\"].std().round(2)\\ntop_std = (mean + std).round(2)\\nbtm_std = (mean - std).round(2)\\n\\nprint(std)\\nprint(\"Most FDIC registed banks have between ${} and ${} \\n\".format(btm_std, top_std))\\n\\n'"
      ]
     },
     "execution_count": 13,
     "metadata": {},
     "output_type": "execute_result"
    }
   ],
   "source": [
    "\"\"\"\n",
    "\n",
    "Standarad deviation for later analysis\n",
    "\n",
    "std = df[\"data.ASSET\"].std().round(2)\n",
    "top_std = (mean + std).round(2)\n",
    "btm_std = (mean - std).round(2)\n",
    "\n",
    "print(std)\n",
    "print(\"Most FDIC registed banks have between ${} and ${} \\n\".format(btm_std, top_std))\n",
    "\n",
    "\"\"\""
   ]
  },
  {
   "cell_type": "code",
   "execution_count": 14,
   "metadata": {},
   "outputs": [],
   "source": [
    "# to format as currency\n",
    "#.style.format('${0:,.2f}')"
   ]
  },
  {
   "cell_type": "code",
   "execution_count": 15,
   "metadata": {},
   "outputs": [
    {
     "name": "stdout",
     "output_type": "stream",
     "text": [
      "3547\n",
      "   Record ID Docket Number     IID  \\\n",
      "0          1            29    29.0   \n",
      "1          2          8327  8327.0   \n",
      "2          3          3916  3916.0   \n",
      "3          4           NaN     NaN   \n",
      "4          5           NaN     NaN   \n",
      "\n",
      "                                   Unnamed: 3 DOCASSOCIATION Unnamed: 5  \\\n",
      "0  http://www.occ.gov/static/ots/enforcement/          93296       .pdf   \n",
      "1  http://www.occ.gov/static/ots/enforcement/          93221       .pdf   \n",
      "2  http://www.occ.gov/static/ots/enforcement/          93233       .pdf   \n",
      "3  http://www.occ.gov/static/ots/enforcement/          93799       .pdf   \n",
      "4  http://www.occ.gov/static/ots/enforcement/          94981       .pdf   \n",
      "\n",
      "                                          Unnamed: 6  \\\n",
      "0  http://www.occ.gov/static/ots/enforcement/9329...   \n",
      "1  http://www.occ.gov/static/ots/enforcement/9322...   \n",
      "2  http://www.occ.gov/static/ots/enforcement/9323...   \n",
      "3  http://www.occ.gov/static/ots/enforcement/9379...   \n",
      "4  http://www.occ.gov/static/ots/enforcement/9498...   \n",
      "\n",
      "                                          Unnamed: 7  \\\n",
      "0  http://www.occ.gov/static/ots/enforcement/9329...   \n",
      "1  http://www.occ.gov/static/ots/enforcement/9322...   \n",
      "2  http://www.occ.gov/static/ots/enforcement/9323...   \n",
      "3  http://www.occ.gov/static/ots/enforcement/9379...   \n",
      "4  http://www.occ.gov/static/ots/enforcement/9498...   \n",
      "\n",
      "                          Link to Enforcement Action Order Number  ...  \\\n",
      "0  http://www.occ.gov/static/ots/enforcement/9329...    DAL 96-18  ...   \n",
      "1  http://www.occ.gov/static/ots/enforcement/9322...    ATL 97-06  ...   \n",
      "2  http://www.occ.gov/static/ots/enforcement/9323...    MWR 97-17  ...   \n",
      "3  http://www.occ.gov/static/ots/enforcement/9379...    OTS 93-45  ...   \n",
      "4  http://www.occ.gov/static/ots/enforcement/9498...     NY 90-17  ...   \n",
      "\n",
      "    First Name Last Name               City State OTS Region Issue Date  \\\n",
      "0   Martha Sue     Abney          Texarkana    AR    Western   8/7/1996   \n",
      "1    Christina    Acosta  North Miami Beach    FL  Southeast  8/28/1997   \n",
      "2   Melissa J.     Acuna            Roswell    NM    Western  11/6/1997   \n",
      "3        Mario    Albini          Waterbury    CT  Northeast   6/3/1993   \n",
      "4  Jose Manuel  Alcorcer           Santurce    PR  Southeast   7/3/1990   \n",
      "\n",
      "  Type Code               Type Description Type of Order Notes  \n",
      "0      15.0  Orders of Removal/Prohibition   Prohibition   NaN  \n",
      "1      15.0  Orders of Removal/Prohibition   Prohibition   NaN  \n",
      "2      15.0  Orders of Removal/Prohibition   Prohibition   NaN  \n",
      "3      15.0  Orders of Removal/Prohibition   Prohibition   NaN  \n",
      "4      15.0  Orders of Removal/Prohibition   Prohibition   NaN  \n",
      "\n",
      "[5 rows x 21 columns]\n"
     ]
    }
   ],
   "source": [
    "#To add banks with FDIC violations\n",
    "\n",
    "absolute_path = os.path.abspath('')\n",
    "relative_path = \"ots-enforcement-order-listing.csv\"\n",
    "full_path = os.path.join(absolute_path, relative_path)\n",
    "enforcment_df = pd.read_csv(full_path)\n",
    "print(len(enforcment_df))\n",
    "print(enforcment_df.head())"
   ]
  },
  {
   "cell_type": "code",
   "execution_count": 16,
   "metadata": {},
   "outputs": [
    {
     "name": "stdout",
     "output_type": "stream",
     "text": [
      "Index(['Record ID', 'Docket Number', 'IID', 'Unnamed: 3', 'DOCASSOCIATION',\n",
      "       'Unnamed: 5', 'Unnamed: 6', 'Unnamed: 7', 'Link to Enforcement Action',\n",
      "       'Order Number', 'Institution Name', 'First Name', 'Last Name', 'City',\n",
      "       'State', 'OTS Region', 'Issue Date', 'Type Code', 'Type Description',\n",
      "       'Type of Order', 'Notes'],\n",
      "      dtype='object')\n",
      "Index(['record_id', 'docket_number', 'iid', 'unnamed:_3', 'docassociation',\n",
      "       'unnamed:_5', 'unnamed:_6', 'unnamed:_7', 'link_to_enforcement_action',\n",
      "       'order_number', 'institution_name', 'first_name', 'last_name', 'city',\n",
      "       'state', 'ots_region', 'issue_date', 'type_code', 'type_description',\n",
      "       'type_of_order', 'notes'],\n",
      "      dtype='object')\n"
     ]
    }
   ],
   "source": [
    "print(enforcment_df.columns)\n",
    "enforcment_df.columns= enforcment_df.columns.str.lower()\n",
    "enforcment_df.columns = enforcment_df.columns.str.replace(' ', '_')\n",
    "print(enforcment_df.columns)"
   ]
  },
  {
   "cell_type": "code",
   "execution_count": 17,
   "metadata": {},
   "outputs": [],
   "source": [
    "#for d in enforcment_df['docket_number'].astype(str):\n",
    "#    if enforcment_df['docket_number'].str.startswith('H'):\n",
    "#        enforcment_df['docket_number'].str.replace(' ', '')"
   ]
  },
  {
   "attachments": {},
   "cell_type": "markdown",
   "metadata": {},
   "source": [
    "Knowledge Check 2 - The next two cells remove improperly formatted docket numbers and then remove rows without docket numbers from the data frame"
   ]
  },
  {
   "cell_type": "code",
   "execution_count": 18,
   "metadata": {},
   "outputs": [],
   "source": [
    "enforcment_df['docket_number'] = np.where(enforcment_df['docket_number'].str.startswith('H'), '', enforcment_df['docket_number'])"
   ]
  },
  {
   "cell_type": "code",
   "execution_count": 19,
   "metadata": {},
   "outputs": [
    {
     "name": "stdout",
     "output_type": "stream",
     "text": [
      "2029\n",
      "      record_id docket_number      iid  \\\n",
      "1391       1463           100    100.0   \n",
      "2907       3018           100    100.0   \n",
      "1268       1337           100    100.0   \n",
      "538         551         10100  10100.0   \n",
      "2382       2478          1016   1016.0   \n",
      "\n",
      "                                      unnamed:_3 docassociation unnamed:_5  \\\n",
      "1391  http://www.occ.gov/static/ots/enforcement/          94571       .pdf   \n",
      "2907  http://www.occ.gov/static/ots/enforcement/          97102       .pdf   \n",
      "1268  http://www.occ.gov/static/ots/enforcement/          93646       .pdf   \n",
      "538   http://www.occ.gov/static/ots/enforcement/          93574       .pdf   \n",
      "2382  http://www.occ.gov/static/ots/enforcement/          96124       .pdf   \n",
      "\n",
      "                                             unnamed:_6  \\\n",
      "1391  http://www.occ.gov/static/ots/enforcement/9457...   \n",
      "2907  http://www.occ.gov/static/ots/enforcement/9710...   \n",
      "1268  http://www.occ.gov/static/ots/enforcement/9364...   \n",
      "538   http://www.occ.gov/static/ots/enforcement/9357...   \n",
      "2382  http://www.occ.gov/static/ots/enforcement/9612...   \n",
      "\n",
      "                                             unnamed:_7  \\\n",
      "1391  http://www.occ.gov/static/ots/enforcement/9457...   \n",
      "2907  http://www.occ.gov/static/ots/enforcement/9710...   \n",
      "1268  http://www.occ.gov/static/ots/enforcement/9364...   \n",
      "538   http://www.occ.gov/static/ots/enforcement/9357...   \n",
      "2382  http://www.occ.gov/static/ots/enforcement/9612...   \n",
      "\n",
      "                             link_to_enforcement_action order_number  ...  \\\n",
      "1391  http://www.occ.gov/static/ots/enforcement/9457...    MWR 06-02  ...   \n",
      "2907  http://www.occ.gov/static/ots/enforcement/9710...     WN-09-06  ...   \n",
      "1268  http://www.occ.gov/static/ots/enforcement/9364...    MWR 04-15  ...   \n",
      "538   http://www.occ.gov/static/ots/enforcement/9357...    CHI 94-34  ...   \n",
      "2382  http://www.occ.gov/static/ots/enforcement/9612...           SA  ...   \n",
      "\n",
      "          first_name last_name        city state ots_region  issue_date  \\\n",
      "1391       Kristi B.   Robbins       Paris    TX    Western   2/22/2006   \n",
      "2907       Angela D.     Hobbs       Paris    TX    Western   4/17/2009   \n",
      "1268  Christopher G.   Mallory       Paris    TX    Western   9/21/2004   \n",
      "538         Cloyd A.  Singhass   Cleveland    OH    Central  12/14/1994   \n",
      "2382             NaN       NaN  Cincinnati    OH    Central    2/4/1999   \n",
      "\n",
      "     type_code               type_description type_of_order notes  \n",
      "1391      15.0  Orders of Removal/Prohibition           NaN   NaN  \n",
      "2907      15.0  Orders of Removal/Prohibition           NaN   NaN  \n",
      "1268      15.0  Orders of Removal/Prohibition           NaN   NaN  \n",
      "538       15.0  Orders of Removal/Prohibition   Prohibition   NaN  \n",
      "2382      13.0          Supervisory Agreement           NaN   NaN  \n",
      "\n",
      "[5 rows x 21 columns]\n"
     ]
    }
   ],
   "source": [
    "#create a new df so the old df is unaltered\n",
    "\n",
    "#sorts the new df by docket number\n",
    "enf_df1 = enforcment_df.sort_values('docket_number')\n",
    "\n",
    "#converts emtpy strings to NaN and then drops rows that do not have a Docket Number\n",
    "enf_df1['docket_number'].replace('', np.nan, inplace=True)\n",
    "enf_df1.dropna(subset=['docket_number'], inplace=True)\n",
    "\n",
    "#Gives the size and first columns of the new_enf_df\n",
    "print(len(enf_df1.sort_values('docket_number')))\n",
    "print(enf_df1.head(5))"
   ]
  },
  {
   "cell_type": "code",
   "execution_count": 20,
   "metadata": {},
   "outputs": [
    {
     "name": "stdout",
     "output_type": "stream",
     "text": [
      "837\n",
      "      record_id docket_number      iid  \\\n",
      "1268       1337           100    100.0   \n",
      "538         551         10100  10100.0   \n",
      "1865       1950          1016   1016.0   \n",
      "2436       2533          1039      NaN   \n",
      "1136       1202          1050      NaN   \n",
      "\n",
      "                                      unnamed:_3 docassociation unnamed:_5  \\\n",
      "1268  http://www.occ.gov/static/ots/enforcement/          93646       .pdf   \n",
      "538   http://www.occ.gov/static/ots/enforcement/          93574       .pdf   \n",
      "1865  http://www.occ.gov/static/ots/enforcement/          94759       .pdf   \n",
      "2436  http://www.occ.gov/static/ots/enforcement/          96246       .pdf   \n",
      "1136  http://www.occ.gov/static/ots/enforcement/          93507       .pdf   \n",
      "\n",
      "                                             unnamed:_6  \\\n",
      "1268  http://www.occ.gov/static/ots/enforcement/9364...   \n",
      "538   http://www.occ.gov/static/ots/enforcement/9357...   \n",
      "1865  http://www.occ.gov/static/ots/enforcement/9475...   \n",
      "2436  http://www.occ.gov/static/ots/enforcement/9624...   \n",
      "1136  http://www.occ.gov/static/ots/enforcement/9350...   \n",
      "\n",
      "                                             unnamed:_7  \\\n",
      "1268  http://www.occ.gov/static/ots/enforcement/9364...   \n",
      "538   http://www.occ.gov/static/ots/enforcement/9357...   \n",
      "1865  http://www.occ.gov/static/ots/enforcement/9475...   \n",
      "2436  http://www.occ.gov/static/ots/enforcement/9624...   \n",
      "1136  http://www.occ.gov/static/ots/enforcement/9350...   \n",
      "\n",
      "                             link_to_enforcement_action order_number  ...  \\\n",
      "1268  http://www.occ.gov/static/ots/enforcement/9364...    MWR 04-15  ...   \n",
      "538   http://www.occ.gov/static/ots/enforcement/9357...    CHI 94-34  ...   \n",
      "1865  http://www.occ.gov/static/ots/enforcement/9475...           SA  ...   \n",
      "2436  http://www.occ.gov/static/ots/enforcement/9624...           SA  ...   \n",
      "1136  http://www.occ.gov/static/ots/enforcement/9350...     ATL 94-8  ...   \n",
      "\n",
      "          first_name  last_name        city state ots_region  issue_date  \\\n",
      "1268  Christopher G.    Mallory       Paris    TX    Western   9/21/2004   \n",
      "538         Cloyd A.   Singhass   Cleveland    OH    Central  12/14/1994   \n",
      "1865             NaN        NaN  Cincinnati    OH    Central    2/4/1999   \n",
      "2436             NaN        NaN     Norwich    CT  Northeast   4/14/1992   \n",
      "1136        James M.  Henderson   Salisbury    NC  Southeast    6/2/1994   \n",
      "\n",
      "     type_code               type_description type_of_order notes  \n",
      "1268      15.0  Orders of Removal/Prohibition           NaN   NaN  \n",
      "538       15.0  Orders of Removal/Prohibition   Prohibition   NaN  \n",
      "1865      13.0          Supervisory Agreement           NaN   NaN  \n",
      "2436      13.0          Supervisory Agreement           NaN   NaN  \n",
      "1136       6.0               Cease and Desist           NaN   NaN  \n",
      "\n",
      "[5 rows x 21 columns]\n"
     ]
    }
   ],
   "source": [
    "#drops duplicates and adds 2 new colums to the new_enf_df\n",
    "\n",
    "short_enf_df = enf_df1.drop_duplicates(subset=['docket_number'], keep='last')\n",
    "#short_enf_df = short_enf_df.reindex(columns = new_enf_df.columns.tolist() + ['Number_of_Violations','Unique_Violations'])\n",
    "\n",
    "#Gives the size and first columns of the short_enf_df\n",
    "print(len(short_enf_df))\n",
    "print(short_enf_df.head())"
   ]
  },
  {
   "cell_type": "code",
   "execution_count": 21,
   "metadata": {},
   "outputs": [
    {
     "name": "stdout",
     "output_type": "stream",
     "text": [
      "    docket_number  total_violations\n",
      "0             100                 3\n",
      "1           10100                 1\n",
      "2            1016                 2\n",
      "3            1039                 3\n",
      "4            1050                 1\n",
      "..            ...               ...\n",
      "832           940                 1\n",
      "833          9419                 3\n",
      "834          9499                 1\n",
      "835           966                 3\n",
      "836         XXXXX                 2\n",
      "\n",
      "[837 rows x 2 columns]\n"
     ]
    }
   ],
   "source": [
    "violation_count_df = enf_df1.pivot_table(index = ['docket_number'], aggfunc ='size')\n",
    "vc_df = violation_count_df.reset_index()\n",
    "vc_df.columns = ['docket_number', 'total_violations']\n",
    "print(vc_df)"
   ]
  },
  {
   "cell_type": "code",
   "execution_count": 22,
   "metadata": {},
   "outputs": [
    {
     "name": "stdout",
     "output_type": "stream",
     "text": [
      "     docket_number  issue_date  violations\n",
      "0              100   2/22/2006           1\n",
      "1              100   4/17/2009           1\n",
      "2              100   9/21/2004           1\n",
      "3            10100  12/14/1994           1\n",
      "4             1016    2/4/1999           2\n",
      "...            ...         ...         ...\n",
      "1573          9499   1/10/1996           1\n",
      "1574           966  12/31/2009           1\n",
      "1575           966    4/4/2008           1\n",
      "1576           966   5/29/2009           1\n",
      "1577         XXXXX   4/13/2011           2\n",
      "\n",
      "[1578 rows x 3 columns]\n"
     ]
    }
   ],
   "source": [
    "unique_violation_count_df = enf_df1.pivot_table(index = ['docket_number', \"issue_date\"], aggfunc ='size')\n",
    "uvc_df = unique_violation_count_df.reset_index()\n",
    "uvc_df.columns = ['docket_number', 'issue_date', 'violations']\n",
    "print(uvc_df)"
   ]
  },
  {
   "cell_type": "code",
   "execution_count": 23,
   "metadata": {},
   "outputs": [
    {
     "name": "stdout",
     "output_type": "stream",
     "text": [
      "    docket_number  unique_violations\n",
      "0             100                  3\n",
      "1           10100                  1\n",
      "2            1016                  2\n",
      "3            1039                  3\n",
      "4            1050                  1\n",
      "..            ...                ...\n",
      "832           940                  1\n",
      "833          9419                  3\n",
      "834          9499                  1\n",
      "835           966                  3\n",
      "836         XXXXX                  2\n",
      "\n",
      "[837 rows x 2 columns]\n"
     ]
    }
   ],
   "source": [
    "final_uvc_df = uvc_df.pivot_table(index = ['docket_number'], aggfunc ='size')\n",
    "fvc_df = violation_count_df.reset_index()\n",
    "fvc_df.columns = ['docket_number', 'unique_violations']\n",
    "print(fvc_df)"
   ]
  },
  {
   "cell_type": "code",
   "execution_count": 24,
   "metadata": {},
   "outputs": [
    {
     "name": "stdout",
     "output_type": "stream",
     "text": [
      "    docket_number  total_violations  unique_violations\n",
      "0             100                 3                  3\n",
      "1           10100                 1                  1\n",
      "2            1016                 2                  2\n",
      "3            1039                 3                  3\n",
      "4            1050                 1                  1\n",
      "..            ...               ...                ...\n",
      "832           940                 1                  1\n",
      "833          9419                 3                  3\n",
      "834          9499                 1                  1\n",
      "835           966                 3                  3\n",
      "836         XXXXX                 2                  2\n",
      "\n",
      "[837 rows x 3 columns]\n"
     ]
    }
   ],
   "source": [
    "violation_stats_df = vc_df.merge(fvc_df)\n",
    "print(violation_stats_df)"
   ]
  },
  {
   "cell_type": "code",
   "execution_count": 25,
   "metadata": {},
   "outputs": [
    {
     "name": "stdout",
     "output_type": "stream",
     "text": [
      "<bound method NDFrame.head of      record_id docket_number      iid  \\\n",
      "0         1337           100    100.0   \n",
      "1          551         10100  10100.0   \n",
      "2         1950          1016   1016.0   \n",
      "3         2533          1039      NaN   \n",
      "4         1202          1050      NaN   \n",
      "..         ...           ...      ...   \n",
      "832       1401           940    940.0   \n",
      "833       1183          9419      NaN   \n",
      "834       1015          9499      NaN   \n",
      "835       3214           966    966.0   \n",
      "836       3588         XXXXX      NaN   \n",
      "\n",
      "                                     unnamed:_3 docassociation unnamed:_5  \\\n",
      "0    http://www.occ.gov/static/ots/enforcement/          93646       .pdf   \n",
      "1    http://www.occ.gov/static/ots/enforcement/          93574       .pdf   \n",
      "2    http://www.occ.gov/static/ots/enforcement/          94759       .pdf   \n",
      "3    http://www.occ.gov/static/ots/enforcement/          96246       .pdf   \n",
      "4    http://www.occ.gov/static/ots/enforcement/          93507       .pdf   \n",
      "..                                          ...            ...        ...   \n",
      "832  http://www.occ.gov/static/ots/enforcement/          93699       .pdf   \n",
      "833  http://www.occ.gov/static/ots/enforcement/          93465       .pdf   \n",
      "834  http://www.occ.gov/static/ots/enforcement/          93247       .pdf   \n",
      "835  http://www.occ.gov/static/ots/enforcement/          97295       .pdf   \n",
      "836  http://www.occ.gov/static/ots/enforcement/          97668       .pdf   \n",
      "\n",
      "                                            unnamed:_6  \\\n",
      "0    http://www.occ.gov/static/ots/enforcement/9364...   \n",
      "1    http://www.occ.gov/static/ots/enforcement/9357...   \n",
      "2    http://www.occ.gov/static/ots/enforcement/9475...   \n",
      "3    http://www.occ.gov/static/ots/enforcement/9624...   \n",
      "4    http://www.occ.gov/static/ots/enforcement/9350...   \n",
      "..                                                 ...   \n",
      "832  http://www.occ.gov/static/ots/enforcement/9369...   \n",
      "833  http://www.occ.gov/static/ots/enforcement/9346...   \n",
      "834  http://www.occ.gov/static/ots/enforcement/9324...   \n",
      "835  http://www.occ.gov/static/ots/enforcement/9729...   \n",
      "836  http://www.occ.gov/static/ots/enforcement/9766...   \n",
      "\n",
      "                                            unnamed:_7  \\\n",
      "0    http://www.occ.gov/static/ots/enforcement/9364...   \n",
      "1    http://www.occ.gov/static/ots/enforcement/9357...   \n",
      "2    http://www.occ.gov/static/ots/enforcement/9475...   \n",
      "3    http://www.occ.gov/static/ots/enforcement/9624...   \n",
      "4    http://www.occ.gov/static/ots/enforcement/9350...   \n",
      "..                                                 ...   \n",
      "832  http://www.occ.gov/static/ots/enforcement/9369...   \n",
      "833  http://www.occ.gov/static/ots/enforcement/9346...   \n",
      "834  http://www.occ.gov/static/ots/enforcement/9324...   \n",
      "835  http://www.occ.gov/static/ots/enforcement/9729...   \n",
      "836  http://www.occ.gov/static/ots/enforcement/9766...   \n",
      "\n",
      "                            link_to_enforcement_action order_number  ...  \\\n",
      "0    http://www.occ.gov/static/ots/enforcement/9364...    MWR 04-15  ...   \n",
      "1    http://www.occ.gov/static/ots/enforcement/9357...    CHI 94-34  ...   \n",
      "2    http://www.occ.gov/static/ots/enforcement/9475...           SA  ...   \n",
      "3    http://www.occ.gov/static/ots/enforcement/9624...           SA  ...   \n",
      "4    http://www.occ.gov/static/ots/enforcement/9350...     ATL 94-8  ...   \n",
      "..                                                 ...          ...  ...   \n",
      "832  http://www.occ.gov/static/ots/enforcement/9369...     NE 05-05  ...   \n",
      "833  http://www.occ.gov/static/ots/enforcement/9346...     AP 94-15  ...   \n",
      "834  http://www.occ.gov/static/ots/enforcement/9324...      NE 96-1  ...   \n",
      "835  http://www.occ.gov/static/ots/enforcement/9729...     CN 09-46  ...   \n",
      "836  http://www.occ.gov/static/ots/enforcement/9766...    DC 11-040  ...   \n",
      "\n",
      "                city state ots_region  issue_date type_code  \\\n",
      "0              Paris    TX    Western   9/21/2004      15.0   \n",
      "1          Cleveland    OH    Central  12/14/1994      15.0   \n",
      "2         Cincinnati    OH    Central    2/4/1999      13.0   \n",
      "3            Norwich    CT  Northeast   4/14/1992      13.0   \n",
      "4          Salisbury    NC  Southeast    6/2/1994       6.0   \n",
      "..               ...   ...        ...         ...       ...   \n",
      "832           Sewell    NJ  Northeast    5/2/2005      15.0   \n",
      "833  West Palm Beach    CA    Western   3/14/1994       6.0   \n",
      "834       Middletwon    NJ  Northeast   1/10/1996       6.0   \n",
      "835         Hastings    MI    Central  12/31/2009      11.0   \n",
      "836           Reston    VA  Southeast   4/13/2011       6.0   \n",
      "\n",
      "                  type_description type_of_order          notes  \\\n",
      "0    Orders of Removal/Prohibition           NaN            NaN   \n",
      "1    Orders of Removal/Prohibition   Prohibition            NaN   \n",
      "2            Supervisory Agreement           NaN            NaN   \n",
      "3            Supervisory Agreement           NaN            NaN   \n",
      "4                 Cease and Desist           NaN            NaN   \n",
      "..                             ...           ...            ...   \n",
      "832  Orders of Removal/Prohibition           NaN            NaN   \n",
      "833               Cease and Desist           NaN            NaN   \n",
      "834               Cease and Desist           NaN            NaN   \n",
      "835       Prompt Corrective Action           NaN            NaN   \n",
      "836               Cease and Desist           NaN  Consent Order   \n",
      "\n",
      "    total_violations unique_violations  \n",
      "0                  3                 3  \n",
      "1                  1                 1  \n",
      "2                  2                 2  \n",
      "3                  3                 3  \n",
      "4                  1                 1  \n",
      "..               ...               ...  \n",
      "832                1                 1  \n",
      "833                3                 3  \n",
      "834                1                 1  \n",
      "835                3                 3  \n",
      "836                2                 2  \n",
      "\n",
      "[837 rows x 23 columns]>\n"
     ]
    }
   ],
   "source": [
    "final_enf_df = short_enf_df.merge(violation_stats_df)\n",
    "print(final_enf_df.head)"
   ]
  },
  {
   "cell_type": "code",
   "execution_count": 26,
   "metadata": {},
   "outputs": [
    {
     "name": "stdout",
     "output_type": "stream",
     "text": [
      "<bound method NDFrame.head of           asset chrtagnt  clcode     effdate  fdicregn  \\\n",
      "0           NaN    STATE      13  07/01/1981  New York   \n",
      "1      712714.0    STATE      13  03/07/2002    Dallas   \n",
      "2      338215.0      OCC       3  04/30/2018   Atlanta   \n",
      "3      126549.0    STATE      13  10/16/1998   Atlanta   \n",
      "4      144049.0    STATE      21  08/31/2022   Chicago   \n",
      "...         ...      ...     ...         ...       ...   \n",
      "27811       NaN    STATE      21  01/01/1984   Atlanta   \n",
      "27812   62371.0    STATE      21  04/01/1998   Atlanta   \n",
      "27813  178789.0    STATE      21  08/31/1996   Atlanta   \n",
      "27814  454657.0    STATE      21  08/31/2022   Atlanta   \n",
      "27815  200966.0    STATE      21  08/31/2022   Atlanta   \n",
      "\n",
      "                                         name  trust  total_violations  \\\n",
      "0                   Northeast Bank of Sanford    NaN               NaN   \n",
      "1                         Bank of Bentonville    1.0               NaN   \n",
      "2      Progressive Bank, National Association    1.0               NaN   \n",
      "3         First Citizens Bank & Trust Company    1.0               NaN   \n",
      "4                                   Ergo Bank    0.0               NaN   \n",
      "...                                       ...    ...               ...   \n",
      "27811                        The Peoples Bank    NaN               NaN   \n",
      "27812               Jackson County Bank, Inc.    0.0               NaN   \n",
      "27813                         Bank of Weirton    1.0               NaN   \n",
      "27814                 Jefferson Security Bank    0.0               NaN   \n",
      "27815                       Capon Valley Bank    0.0               NaN   \n",
      "\n",
      "       unique_violations  \n",
      "0                    NaN  \n",
      "1                    NaN  \n",
      "2                    NaN  \n",
      "3                    NaN  \n",
      "4                    NaN  \n",
      "...                  ...  \n",
      "27811                NaN  \n",
      "27812                NaN  \n",
      "27813                NaN  \n",
      "27814                NaN  \n",
      "27815                NaN  \n",
      "\n",
      "[27816 rows x 9 columns]>\n"
     ]
    }
   ],
   "source": [
    "df['docket'] = df['docket'].astype(str)\n",
    "final_df = df.merge(final_enf_df, how='left', left_on='docket', right_on='docket_number')\n",
    "small_final_df = final_df[['asset', 'chrtagnt', 'clcode', 'effdate', 'fdicregn', 'name', 'trust', 'total_violations', 'unique_violations']].copy()\n",
    "print(small_final_df.head)"
   ]
  },
  {
   "cell_type": "code",
   "execution_count": 27,
   "metadata": {},
   "outputs": [],
   "source": [
    "small_final_df['total_violations'] = final_df['total_violations'].fillna(0)\n",
    "small_final_df['unique_violations'] = final_df['unique_violations'].fillna(0)"
   ]
  },
  {
   "cell_type": "code",
   "execution_count": 28,
   "metadata": {},
   "outputs": [
    {
     "name": "stdout",
     "output_type": "stream",
     "text": [
      "26992\n",
      "824\n"
     ]
    }
   ],
   "source": [
    "no_violation_df = small_final_df[small_final_df.total_violations == 0]\n",
    "violation_df = small_final_df[small_final_df.total_violations != 0]\n",
    "\n",
    "print(no_violation_df.shape[0])\n",
    "print(violation_df.shape[0])"
   ]
  },
  {
   "cell_type": "code",
   "execution_count": 29,
   "metadata": {},
   "outputs": [],
   "source": [
    "small_final_df.to_json('final.json', orient='records', lines=True)\n",
    "no_violation_df.to_json('no_violation.json', orient='records', lines=True)\n",
    "violation_df.to_json('violation.json', orient='records', lines=True)"
   ]
  },
  {
   "cell_type": "code",
   "execution_count": 30,
   "metadata": {},
   "outputs": [
    {
     "data": {
      "text/plain": [
       "'\\ndf_total = df[\"Studied\"] + df[\"Slept\"] + df[\"Other\"]\\ndf_rel = df[df.columns[1:]].div(df_total, 0)*100\\n  \\nfor n in df_rel:\\n    for i, (cs, ab, pc) in enumerate(zip(df.iloc[:, 1:].cumsum(1)[n], \\n                                         df[n], df_rel[n])):\\n        plt.text(cs - ab / 2, i, str(np.round(pc, 1)) + \\'%\\', \\n                 va = \\'center\\', ha = \\'center\\')\\n'"
      ]
     },
     "execution_count": 30,
     "metadata": {},
     "output_type": "execute_result"
    },
    {
     "name": "stdout",
     "output_type": "stream",
     "text": [
      "Error in callback <function flush_figures at 0x0000016947C10DC0> (for post_execute):\n"
     ]
    },
    {
     "ename": "KeyboardInterrupt",
     "evalue": "",
     "output_type": "error",
     "traceback": [
      "\u001b[1;31m---------------------------------------------------------------------------\u001b[0m",
      "\u001b[1;31mKeyboardInterrupt\u001b[0m                         Traceback (most recent call last)",
      "File \u001b[1;32m~\\AppData\\Local\\Packages\\PythonSoftwareFoundation.Python.3.10_qbz5n2kfra8p0\\LocalCache\\local-packages\\Python310\\site-packages\\matplotlib_inline\\backend_inline.py:126\u001b[0m, in \u001b[0;36mflush_figures\u001b[1;34m()\u001b[0m\n\u001b[0;32m    123\u001b[0m \u001b[39mif\u001b[39;00m InlineBackend\u001b[39m.\u001b[39minstance()\u001b[39m.\u001b[39mclose_figures:\n\u001b[0;32m    124\u001b[0m     \u001b[39m# ignore the tracking, just draw and close all figures\u001b[39;00m\n\u001b[0;32m    125\u001b[0m     \u001b[39mtry\u001b[39;00m:\n\u001b[1;32m--> 126\u001b[0m         \u001b[39mreturn\u001b[39;00m show(\u001b[39mTrue\u001b[39;49;00m)\n\u001b[0;32m    127\u001b[0m     \u001b[39mexcept\u001b[39;00m \u001b[39mException\u001b[39;00m \u001b[39mas\u001b[39;00m e:\n\u001b[0;32m    128\u001b[0m         \u001b[39m# safely show traceback if in IPython, else raise\u001b[39;00m\n\u001b[0;32m    129\u001b[0m         ip \u001b[39m=\u001b[39m get_ipython()\n",
      "File \u001b[1;32m~\\AppData\\Local\\Packages\\PythonSoftwareFoundation.Python.3.10_qbz5n2kfra8p0\\LocalCache\\local-packages\\Python310\\site-packages\\matplotlib_inline\\backend_inline.py:90\u001b[0m, in \u001b[0;36mshow\u001b[1;34m(close, block)\u001b[0m\n\u001b[0;32m     88\u001b[0m \u001b[39mtry\u001b[39;00m:\n\u001b[0;32m     89\u001b[0m     \u001b[39mfor\u001b[39;00m figure_manager \u001b[39min\u001b[39;00m Gcf\u001b[39m.\u001b[39mget_all_fig_managers():\n\u001b[1;32m---> 90\u001b[0m         display(\n\u001b[0;32m     91\u001b[0m             figure_manager\u001b[39m.\u001b[39;49mcanvas\u001b[39m.\u001b[39;49mfigure,\n\u001b[0;32m     92\u001b[0m             metadata\u001b[39m=\u001b[39;49m_fetch_figure_metadata(figure_manager\u001b[39m.\u001b[39;49mcanvas\u001b[39m.\u001b[39;49mfigure)\n\u001b[0;32m     93\u001b[0m         )\n\u001b[0;32m     94\u001b[0m \u001b[39mfinally\u001b[39;00m:\n\u001b[0;32m     95\u001b[0m     show\u001b[39m.\u001b[39m_to_draw \u001b[39m=\u001b[39m []\n",
      "File \u001b[1;32m~\\AppData\\Local\\Packages\\PythonSoftwareFoundation.Python.3.10_qbz5n2kfra8p0\\LocalCache\\local-packages\\Python310\\site-packages\\IPython\\core\\display_functions.py:298\u001b[0m, in \u001b[0;36mdisplay\u001b[1;34m(include, exclude, metadata, transient, display_id, raw, clear, *objs, **kwargs)\u001b[0m\n\u001b[0;32m    296\u001b[0m     publish_display_data(data\u001b[39m=\u001b[39mobj, metadata\u001b[39m=\u001b[39mmetadata, \u001b[39m*\u001b[39m\u001b[39m*\u001b[39mkwargs)\n\u001b[0;32m    297\u001b[0m \u001b[39melse\u001b[39;00m:\n\u001b[1;32m--> 298\u001b[0m     format_dict, md_dict \u001b[39m=\u001b[39m \u001b[39mformat\u001b[39;49m(obj, include\u001b[39m=\u001b[39;49minclude, exclude\u001b[39m=\u001b[39;49mexclude)\n\u001b[0;32m    299\u001b[0m     \u001b[39mif\u001b[39;00m \u001b[39mnot\u001b[39;00m format_dict:\n\u001b[0;32m    300\u001b[0m         \u001b[39m# nothing to display (e.g. _ipython_display_ took over)\u001b[39;00m\n\u001b[0;32m    301\u001b[0m         \u001b[39mcontinue\u001b[39;00m\n",
      "File \u001b[1;32m~\\AppData\\Local\\Packages\\PythonSoftwareFoundation.Python.3.10_qbz5n2kfra8p0\\LocalCache\\local-packages\\Python310\\site-packages\\IPython\\core\\formatters.py:177\u001b[0m, in \u001b[0;36mDisplayFormatter.format\u001b[1;34m(self, obj, include, exclude)\u001b[0m\n\u001b[0;32m    175\u001b[0m md \u001b[39m=\u001b[39m \u001b[39mNone\u001b[39;00m\n\u001b[0;32m    176\u001b[0m \u001b[39mtry\u001b[39;00m:\n\u001b[1;32m--> 177\u001b[0m     data \u001b[39m=\u001b[39m formatter(obj)\n\u001b[0;32m    178\u001b[0m \u001b[39mexcept\u001b[39;00m:\n\u001b[0;32m    179\u001b[0m     \u001b[39m# FIXME: log the exception\u001b[39;00m\n\u001b[0;32m    180\u001b[0m     \u001b[39mraise\u001b[39;00m\n",
      "File \u001b[1;32m~\\AppData\\Local\\Packages\\PythonSoftwareFoundation.Python.3.10_qbz5n2kfra8p0\\LocalCache\\local-packages\\Python310\\site-packages\\decorator.py:232\u001b[0m, in \u001b[0;36mdecorate.<locals>.fun\u001b[1;34m(*args, **kw)\u001b[0m\n\u001b[0;32m    230\u001b[0m \u001b[39mif\u001b[39;00m \u001b[39mnot\u001b[39;00m kwsyntax:\n\u001b[0;32m    231\u001b[0m     args, kw \u001b[39m=\u001b[39m fix(args, kw, sig)\n\u001b[1;32m--> 232\u001b[0m \u001b[39mreturn\u001b[39;00m caller(func, \u001b[39m*\u001b[39m(extras \u001b[39m+\u001b[39m args), \u001b[39m*\u001b[39m\u001b[39m*\u001b[39mkw)\n",
      "File \u001b[1;32m~\\AppData\\Local\\Packages\\PythonSoftwareFoundation.Python.3.10_qbz5n2kfra8p0\\LocalCache\\local-packages\\Python310\\site-packages\\IPython\\core\\formatters.py:221\u001b[0m, in \u001b[0;36mcatch_format_error\u001b[1;34m(method, self, *args, **kwargs)\u001b[0m\n\u001b[0;32m    219\u001b[0m \u001b[39m\u001b[39m\u001b[39m\"\"\"show traceback on failed format call\"\"\"\u001b[39;00m\n\u001b[0;32m    220\u001b[0m \u001b[39mtry\u001b[39;00m:\n\u001b[1;32m--> 221\u001b[0m     r \u001b[39m=\u001b[39m method(\u001b[39mself\u001b[39m, \u001b[39m*\u001b[39margs, \u001b[39m*\u001b[39m\u001b[39m*\u001b[39mkwargs)\n\u001b[0;32m    222\u001b[0m \u001b[39mexcept\u001b[39;00m \u001b[39mNotImplementedError\u001b[39;00m:\n\u001b[0;32m    223\u001b[0m     \u001b[39m# don't warn on NotImplementedErrors\u001b[39;00m\n\u001b[0;32m    224\u001b[0m     \u001b[39mreturn\u001b[39;00m \u001b[39mself\u001b[39m\u001b[39m.\u001b[39m_check_return(\u001b[39mNone\u001b[39;00m, args[\u001b[39m0\u001b[39m])\n",
      "File \u001b[1;32m~\\AppData\\Local\\Packages\\PythonSoftwareFoundation.Python.3.10_qbz5n2kfra8p0\\LocalCache\\local-packages\\Python310\\site-packages\\IPython\\core\\formatters.py:338\u001b[0m, in \u001b[0;36mBaseFormatter.__call__\u001b[1;34m(self, obj)\u001b[0m\n\u001b[0;32m    336\u001b[0m     \u001b[39mpass\u001b[39;00m\n\u001b[0;32m    337\u001b[0m \u001b[39melse\u001b[39;00m:\n\u001b[1;32m--> 338\u001b[0m     \u001b[39mreturn\u001b[39;00m printer(obj)\n\u001b[0;32m    339\u001b[0m \u001b[39m# Finally look for special method names\u001b[39;00m\n\u001b[0;32m    340\u001b[0m method \u001b[39m=\u001b[39m get_real_method(obj, \u001b[39mself\u001b[39m\u001b[39m.\u001b[39mprint_method)\n",
      "File \u001b[1;32m~\\AppData\\Local\\Packages\\PythonSoftwareFoundation.Python.3.10_qbz5n2kfra8p0\\LocalCache\\local-packages\\Python310\\site-packages\\IPython\\core\\pylabtools.py:152\u001b[0m, in \u001b[0;36mprint_figure\u001b[1;34m(fig, fmt, bbox_inches, base64, **kwargs)\u001b[0m\n\u001b[0;32m    149\u001b[0m     \u001b[39mfrom\u001b[39;00m \u001b[39mmatplotlib\u001b[39;00m\u001b[39m.\u001b[39;00m\u001b[39mbackend_bases\u001b[39;00m \u001b[39mimport\u001b[39;00m FigureCanvasBase\n\u001b[0;32m    150\u001b[0m     FigureCanvasBase(fig)\n\u001b[1;32m--> 152\u001b[0m fig\u001b[39m.\u001b[39mcanvas\u001b[39m.\u001b[39mprint_figure(bytes_io, \u001b[39m*\u001b[39m\u001b[39m*\u001b[39mkw)\n\u001b[0;32m    153\u001b[0m data \u001b[39m=\u001b[39m bytes_io\u001b[39m.\u001b[39mgetvalue()\n\u001b[0;32m    154\u001b[0m \u001b[39mif\u001b[39;00m fmt \u001b[39m==\u001b[39m \u001b[39m'\u001b[39m\u001b[39msvg\u001b[39m\u001b[39m'\u001b[39m:\n",
      "File \u001b[1;32m~\\AppData\\Local\\Packages\\PythonSoftwareFoundation.Python.3.10_qbz5n2kfra8p0\\LocalCache\\local-packages\\Python310\\site-packages\\matplotlib\\backend_bases.py:2366\u001b[0m, in \u001b[0;36mFigureCanvasBase.print_figure\u001b[1;34m(self, filename, dpi, facecolor, edgecolor, orientation, format, bbox_inches, pad_inches, bbox_extra_artists, backend, **kwargs)\u001b[0m\n\u001b[0;32m   2362\u001b[0m \u001b[39mtry\u001b[39;00m:\n\u001b[0;32m   2363\u001b[0m     \u001b[39m# _get_renderer may change the figure dpi (as vector formats\u001b[39;00m\n\u001b[0;32m   2364\u001b[0m     \u001b[39m# force the figure dpi to 72), so we need to set it again here.\u001b[39;00m\n\u001b[0;32m   2365\u001b[0m     \u001b[39mwith\u001b[39;00m cbook\u001b[39m.\u001b[39m_setattr_cm(\u001b[39mself\u001b[39m\u001b[39m.\u001b[39mfigure, dpi\u001b[39m=\u001b[39mdpi):\n\u001b[1;32m-> 2366\u001b[0m         result \u001b[39m=\u001b[39m print_method(\n\u001b[0;32m   2367\u001b[0m             filename,\n\u001b[0;32m   2368\u001b[0m             facecolor\u001b[39m=\u001b[39mfacecolor,\n\u001b[0;32m   2369\u001b[0m             edgecolor\u001b[39m=\u001b[39medgecolor,\n\u001b[0;32m   2370\u001b[0m             orientation\u001b[39m=\u001b[39morientation,\n\u001b[0;32m   2371\u001b[0m             bbox_inches_restore\u001b[39m=\u001b[39m_bbox_inches_restore,\n\u001b[0;32m   2372\u001b[0m             \u001b[39m*\u001b[39m\u001b[39m*\u001b[39mkwargs)\n\u001b[0;32m   2373\u001b[0m \u001b[39mfinally\u001b[39;00m:\n\u001b[0;32m   2374\u001b[0m     \u001b[39mif\u001b[39;00m bbox_inches \u001b[39mand\u001b[39;00m restore_bbox:\n",
      "File \u001b[1;32m~\\AppData\\Local\\Packages\\PythonSoftwareFoundation.Python.3.10_qbz5n2kfra8p0\\LocalCache\\local-packages\\Python310\\site-packages\\matplotlib\\backend_bases.py:2232\u001b[0m, in \u001b[0;36mFigureCanvasBase._switch_canvas_and_return_print_method.<locals>.<lambda>\u001b[1;34m(*args, **kwargs)\u001b[0m\n\u001b[0;32m   2228\u001b[0m     optional_kws \u001b[39m=\u001b[39m {  \u001b[39m# Passed by print_figure for other renderers.\u001b[39;00m\n\u001b[0;32m   2229\u001b[0m         \u001b[39m\"\u001b[39m\u001b[39mdpi\u001b[39m\u001b[39m\"\u001b[39m, \u001b[39m\"\u001b[39m\u001b[39mfacecolor\u001b[39m\u001b[39m\"\u001b[39m, \u001b[39m\"\u001b[39m\u001b[39medgecolor\u001b[39m\u001b[39m\"\u001b[39m, \u001b[39m\"\u001b[39m\u001b[39morientation\u001b[39m\u001b[39m\"\u001b[39m,\n\u001b[0;32m   2230\u001b[0m         \u001b[39m\"\u001b[39m\u001b[39mbbox_inches_restore\u001b[39m\u001b[39m\"\u001b[39m}\n\u001b[0;32m   2231\u001b[0m     skip \u001b[39m=\u001b[39m optional_kws \u001b[39m-\u001b[39m {\u001b[39m*\u001b[39minspect\u001b[39m.\u001b[39msignature(meth)\u001b[39m.\u001b[39mparameters}\n\u001b[1;32m-> 2232\u001b[0m     print_method \u001b[39m=\u001b[39m functools\u001b[39m.\u001b[39mwraps(meth)(\u001b[39mlambda\u001b[39;00m \u001b[39m*\u001b[39margs, \u001b[39m*\u001b[39m\u001b[39m*\u001b[39mkwargs: meth(\n\u001b[0;32m   2233\u001b[0m         \u001b[39m*\u001b[39margs, \u001b[39m*\u001b[39m\u001b[39m*\u001b[39m{k: v \u001b[39mfor\u001b[39;00m k, v \u001b[39min\u001b[39;00m kwargs\u001b[39m.\u001b[39mitems() \u001b[39mif\u001b[39;00m k \u001b[39mnot\u001b[39;00m \u001b[39min\u001b[39;00m skip}))\n\u001b[0;32m   2234\u001b[0m \u001b[39melse\u001b[39;00m:  \u001b[39m# Let third-parties do as they see fit.\u001b[39;00m\n\u001b[0;32m   2235\u001b[0m     print_method \u001b[39m=\u001b[39m meth\n",
      "File \u001b[1;32m~\\AppData\\Local\\Packages\\PythonSoftwareFoundation.Python.3.10_qbz5n2kfra8p0\\LocalCache\\local-packages\\Python310\\site-packages\\matplotlib\\backends\\backend_agg.py:509\u001b[0m, in \u001b[0;36mFigureCanvasAgg.print_png\u001b[1;34m(self, filename_or_obj, metadata, pil_kwargs)\u001b[0m\n\u001b[0;32m    462\u001b[0m \u001b[39mdef\u001b[39;00m \u001b[39mprint_png\u001b[39m(\u001b[39mself\u001b[39m, filename_or_obj, \u001b[39m*\u001b[39m, metadata\u001b[39m=\u001b[39m\u001b[39mNone\u001b[39;00m, pil_kwargs\u001b[39m=\u001b[39m\u001b[39mNone\u001b[39;00m):\n\u001b[0;32m    463\u001b[0m \u001b[39m    \u001b[39m\u001b[39m\"\"\"\u001b[39;00m\n\u001b[0;32m    464\u001b[0m \u001b[39m    Write the figure to a PNG file.\u001b[39;00m\n\u001b[0;32m    465\u001b[0m \n\u001b[1;32m   (...)\u001b[0m\n\u001b[0;32m    507\u001b[0m \u001b[39m        *metadata*, including the default 'Software' key.\u001b[39;00m\n\u001b[0;32m    508\u001b[0m \u001b[39m    \"\"\"\u001b[39;00m\n\u001b[1;32m--> 509\u001b[0m     \u001b[39mself\u001b[39;49m\u001b[39m.\u001b[39;49m_print_pil(filename_or_obj, \u001b[39m\"\u001b[39;49m\u001b[39mpng\u001b[39;49m\u001b[39m\"\u001b[39;49m, pil_kwargs, metadata)\n",
      "File \u001b[1;32m~\\AppData\\Local\\Packages\\PythonSoftwareFoundation.Python.3.10_qbz5n2kfra8p0\\LocalCache\\local-packages\\Python310\\site-packages\\matplotlib\\backends\\backend_agg.py:457\u001b[0m, in \u001b[0;36mFigureCanvasAgg._print_pil\u001b[1;34m(self, filename_or_obj, fmt, pil_kwargs, metadata)\u001b[0m\n\u001b[0;32m    452\u001b[0m \u001b[39mdef\u001b[39;00m \u001b[39m_print_pil\u001b[39m(\u001b[39mself\u001b[39m, filename_or_obj, fmt, pil_kwargs, metadata\u001b[39m=\u001b[39m\u001b[39mNone\u001b[39;00m):\n\u001b[0;32m    453\u001b[0m \u001b[39m    \u001b[39m\u001b[39m\"\"\"\u001b[39;00m\n\u001b[0;32m    454\u001b[0m \u001b[39m    Draw the canvas, then save it using `.image.imsave` (to which\u001b[39;00m\n\u001b[0;32m    455\u001b[0m \u001b[39m    *pil_kwargs* and *metadata* are forwarded).\u001b[39;00m\n\u001b[0;32m    456\u001b[0m \u001b[39m    \"\"\"\u001b[39;00m\n\u001b[1;32m--> 457\u001b[0m     FigureCanvasAgg\u001b[39m.\u001b[39;49mdraw(\u001b[39mself\u001b[39;49m)\n\u001b[0;32m    458\u001b[0m     mpl\u001b[39m.\u001b[39mimage\u001b[39m.\u001b[39mimsave(\n\u001b[0;32m    459\u001b[0m         filename_or_obj, \u001b[39mself\u001b[39m\u001b[39m.\u001b[39mbuffer_rgba(), \u001b[39mformat\u001b[39m\u001b[39m=\u001b[39mfmt, origin\u001b[39m=\u001b[39m\u001b[39m\"\u001b[39m\u001b[39mupper\u001b[39m\u001b[39m\"\u001b[39m,\n\u001b[0;32m    460\u001b[0m         dpi\u001b[39m=\u001b[39m\u001b[39mself\u001b[39m\u001b[39m.\u001b[39mfigure\u001b[39m.\u001b[39mdpi, metadata\u001b[39m=\u001b[39mmetadata, pil_kwargs\u001b[39m=\u001b[39mpil_kwargs)\n",
      "File \u001b[1;32m~\\AppData\\Local\\Packages\\PythonSoftwareFoundation.Python.3.10_qbz5n2kfra8p0\\LocalCache\\local-packages\\Python310\\site-packages\\matplotlib\\backends\\backend_agg.py:400\u001b[0m, in \u001b[0;36mFigureCanvasAgg.draw\u001b[1;34m(self)\u001b[0m\n\u001b[0;32m    396\u001b[0m \u001b[39m# Acquire a lock on the shared font cache.\u001b[39;00m\n\u001b[0;32m    397\u001b[0m \u001b[39mwith\u001b[39;00m RendererAgg\u001b[39m.\u001b[39mlock, \\\n\u001b[0;32m    398\u001b[0m      (\u001b[39mself\u001b[39m\u001b[39m.\u001b[39mtoolbar\u001b[39m.\u001b[39m_wait_cursor_for_draw_cm() \u001b[39mif\u001b[39;00m \u001b[39mself\u001b[39m\u001b[39m.\u001b[39mtoolbar\n\u001b[0;32m    399\u001b[0m       \u001b[39melse\u001b[39;00m nullcontext()):\n\u001b[1;32m--> 400\u001b[0m     \u001b[39mself\u001b[39;49m\u001b[39m.\u001b[39;49mfigure\u001b[39m.\u001b[39;49mdraw(\u001b[39mself\u001b[39;49m\u001b[39m.\u001b[39;49mrenderer)\n\u001b[0;32m    401\u001b[0m     \u001b[39m# A GUI class may be need to update a window using this draw, so\u001b[39;00m\n\u001b[0;32m    402\u001b[0m     \u001b[39m# don't forget to call the superclass.\u001b[39;00m\n\u001b[0;32m    403\u001b[0m     \u001b[39msuper\u001b[39m()\u001b[39m.\u001b[39mdraw()\n",
      "File \u001b[1;32m~\\AppData\\Local\\Packages\\PythonSoftwareFoundation.Python.3.10_qbz5n2kfra8p0\\LocalCache\\local-packages\\Python310\\site-packages\\matplotlib\\artist.py:95\u001b[0m, in \u001b[0;36m_finalize_rasterization.<locals>.draw_wrapper\u001b[1;34m(artist, renderer, *args, **kwargs)\u001b[0m\n\u001b[0;32m     93\u001b[0m \u001b[39m@wraps\u001b[39m(draw)\n\u001b[0;32m     94\u001b[0m \u001b[39mdef\u001b[39;00m \u001b[39mdraw_wrapper\u001b[39m(artist, renderer, \u001b[39m*\u001b[39margs, \u001b[39m*\u001b[39m\u001b[39m*\u001b[39mkwargs):\n\u001b[1;32m---> 95\u001b[0m     result \u001b[39m=\u001b[39m draw(artist, renderer, \u001b[39m*\u001b[39margs, \u001b[39m*\u001b[39m\u001b[39m*\u001b[39mkwargs)\n\u001b[0;32m     96\u001b[0m     \u001b[39mif\u001b[39;00m renderer\u001b[39m.\u001b[39m_rasterizing:\n\u001b[0;32m     97\u001b[0m         renderer\u001b[39m.\u001b[39mstop_rasterizing()\n",
      "File \u001b[1;32m~\\AppData\\Local\\Packages\\PythonSoftwareFoundation.Python.3.10_qbz5n2kfra8p0\\LocalCache\\local-packages\\Python310\\site-packages\\matplotlib\\artist.py:72\u001b[0m, in \u001b[0;36mallow_rasterization.<locals>.draw_wrapper\u001b[1;34m(artist, renderer)\u001b[0m\n\u001b[0;32m     69\u001b[0m     \u001b[39mif\u001b[39;00m artist\u001b[39m.\u001b[39mget_agg_filter() \u001b[39mis\u001b[39;00m \u001b[39mnot\u001b[39;00m \u001b[39mNone\u001b[39;00m:\n\u001b[0;32m     70\u001b[0m         renderer\u001b[39m.\u001b[39mstart_filter()\n\u001b[1;32m---> 72\u001b[0m     \u001b[39mreturn\u001b[39;00m draw(artist, renderer)\n\u001b[0;32m     73\u001b[0m \u001b[39mfinally\u001b[39;00m:\n\u001b[0;32m     74\u001b[0m     \u001b[39mif\u001b[39;00m artist\u001b[39m.\u001b[39mget_agg_filter() \u001b[39mis\u001b[39;00m \u001b[39mnot\u001b[39;00m \u001b[39mNone\u001b[39;00m:\n",
      "File \u001b[1;32m~\\AppData\\Local\\Packages\\PythonSoftwareFoundation.Python.3.10_qbz5n2kfra8p0\\LocalCache\\local-packages\\Python310\\site-packages\\matplotlib\\figure.py:3140\u001b[0m, in \u001b[0;36mFigure.draw\u001b[1;34m(self, renderer)\u001b[0m\n\u001b[0;32m   3137\u001b[0m         \u001b[39m# ValueError can occur when resizing a window.\u001b[39;00m\n\u001b[0;32m   3139\u001b[0m \u001b[39mself\u001b[39m\u001b[39m.\u001b[39mpatch\u001b[39m.\u001b[39mdraw(renderer)\n\u001b[1;32m-> 3140\u001b[0m mimage\u001b[39m.\u001b[39;49m_draw_list_compositing_images(\n\u001b[0;32m   3141\u001b[0m     renderer, \u001b[39mself\u001b[39;49m, artists, \u001b[39mself\u001b[39;49m\u001b[39m.\u001b[39;49msuppressComposite)\n\u001b[0;32m   3143\u001b[0m \u001b[39mfor\u001b[39;00m sfig \u001b[39min\u001b[39;00m \u001b[39mself\u001b[39m\u001b[39m.\u001b[39msubfigs:\n\u001b[0;32m   3144\u001b[0m     sfig\u001b[39m.\u001b[39mdraw(renderer)\n",
      "File \u001b[1;32m~\\AppData\\Local\\Packages\\PythonSoftwareFoundation.Python.3.10_qbz5n2kfra8p0\\LocalCache\\local-packages\\Python310\\site-packages\\matplotlib\\image.py:131\u001b[0m, in \u001b[0;36m_draw_list_compositing_images\u001b[1;34m(renderer, parent, artists, suppress_composite)\u001b[0m\n\u001b[0;32m    129\u001b[0m \u001b[39mif\u001b[39;00m not_composite \u001b[39mor\u001b[39;00m \u001b[39mnot\u001b[39;00m has_images:\n\u001b[0;32m    130\u001b[0m     \u001b[39mfor\u001b[39;00m a \u001b[39min\u001b[39;00m artists:\n\u001b[1;32m--> 131\u001b[0m         a\u001b[39m.\u001b[39;49mdraw(renderer)\n\u001b[0;32m    132\u001b[0m \u001b[39melse\u001b[39;00m:\n\u001b[0;32m    133\u001b[0m     \u001b[39m# Composite any adjacent images together\u001b[39;00m\n\u001b[0;32m    134\u001b[0m     image_group \u001b[39m=\u001b[39m []\n",
      "File \u001b[1;32m~\\AppData\\Local\\Packages\\PythonSoftwareFoundation.Python.3.10_qbz5n2kfra8p0\\LocalCache\\local-packages\\Python310\\site-packages\\matplotlib\\artist.py:72\u001b[0m, in \u001b[0;36mallow_rasterization.<locals>.draw_wrapper\u001b[1;34m(artist, renderer)\u001b[0m\n\u001b[0;32m     69\u001b[0m     \u001b[39mif\u001b[39;00m artist\u001b[39m.\u001b[39mget_agg_filter() \u001b[39mis\u001b[39;00m \u001b[39mnot\u001b[39;00m \u001b[39mNone\u001b[39;00m:\n\u001b[0;32m     70\u001b[0m         renderer\u001b[39m.\u001b[39mstart_filter()\n\u001b[1;32m---> 72\u001b[0m     \u001b[39mreturn\u001b[39;00m draw(artist, renderer)\n\u001b[0;32m     73\u001b[0m \u001b[39mfinally\u001b[39;00m:\n\u001b[0;32m     74\u001b[0m     \u001b[39mif\u001b[39;00m artist\u001b[39m.\u001b[39mget_agg_filter() \u001b[39mis\u001b[39;00m \u001b[39mnot\u001b[39;00m \u001b[39mNone\u001b[39;00m:\n",
      "File \u001b[1;32m~\\AppData\\Local\\Packages\\PythonSoftwareFoundation.Python.3.10_qbz5n2kfra8p0\\LocalCache\\local-packages\\Python310\\site-packages\\matplotlib\\axes\\_base.py:3064\u001b[0m, in \u001b[0;36m_AxesBase.draw\u001b[1;34m(self, renderer)\u001b[0m\n\u001b[0;32m   3061\u001b[0m \u001b[39mif\u001b[39;00m artists_rasterized:\n\u001b[0;32m   3062\u001b[0m     _draw_rasterized(\u001b[39mself\u001b[39m\u001b[39m.\u001b[39mfigure, artists_rasterized, renderer)\n\u001b[1;32m-> 3064\u001b[0m mimage\u001b[39m.\u001b[39;49m_draw_list_compositing_images(\n\u001b[0;32m   3065\u001b[0m     renderer, \u001b[39mself\u001b[39;49m, artists, \u001b[39mself\u001b[39;49m\u001b[39m.\u001b[39;49mfigure\u001b[39m.\u001b[39;49msuppressComposite)\n\u001b[0;32m   3067\u001b[0m renderer\u001b[39m.\u001b[39mclose_group(\u001b[39m'\u001b[39m\u001b[39maxes\u001b[39m\u001b[39m'\u001b[39m)\n\u001b[0;32m   3068\u001b[0m \u001b[39mself\u001b[39m\u001b[39m.\u001b[39mstale \u001b[39m=\u001b[39m \u001b[39mFalse\u001b[39;00m\n",
      "File \u001b[1;32m~\\AppData\\Local\\Packages\\PythonSoftwareFoundation.Python.3.10_qbz5n2kfra8p0\\LocalCache\\local-packages\\Python310\\site-packages\\matplotlib\\image.py:131\u001b[0m, in \u001b[0;36m_draw_list_compositing_images\u001b[1;34m(renderer, parent, artists, suppress_composite)\u001b[0m\n\u001b[0;32m    129\u001b[0m \u001b[39mif\u001b[39;00m not_composite \u001b[39mor\u001b[39;00m \u001b[39mnot\u001b[39;00m has_images:\n\u001b[0;32m    130\u001b[0m     \u001b[39mfor\u001b[39;00m a \u001b[39min\u001b[39;00m artists:\n\u001b[1;32m--> 131\u001b[0m         a\u001b[39m.\u001b[39;49mdraw(renderer)\n\u001b[0;32m    132\u001b[0m \u001b[39melse\u001b[39;00m:\n\u001b[0;32m    133\u001b[0m     \u001b[39m# Composite any adjacent images together\u001b[39;00m\n\u001b[0;32m    134\u001b[0m     image_group \u001b[39m=\u001b[39m []\n",
      "File \u001b[1;32m~\\AppData\\Local\\Packages\\PythonSoftwareFoundation.Python.3.10_qbz5n2kfra8p0\\LocalCache\\local-packages\\Python310\\site-packages\\matplotlib\\artist.py:72\u001b[0m, in \u001b[0;36mallow_rasterization.<locals>.draw_wrapper\u001b[1;34m(artist, renderer)\u001b[0m\n\u001b[0;32m     69\u001b[0m     \u001b[39mif\u001b[39;00m artist\u001b[39m.\u001b[39mget_agg_filter() \u001b[39mis\u001b[39;00m \u001b[39mnot\u001b[39;00m \u001b[39mNone\u001b[39;00m:\n\u001b[0;32m     70\u001b[0m         renderer\u001b[39m.\u001b[39mstart_filter()\n\u001b[1;32m---> 72\u001b[0m     \u001b[39mreturn\u001b[39;00m draw(artist, renderer)\n\u001b[0;32m     73\u001b[0m \u001b[39mfinally\u001b[39;00m:\n\u001b[0;32m     74\u001b[0m     \u001b[39mif\u001b[39;00m artist\u001b[39m.\u001b[39mget_agg_filter() \u001b[39mis\u001b[39;00m \u001b[39mnot\u001b[39;00m \u001b[39mNone\u001b[39;00m:\n",
      "File \u001b[1;32m~\\AppData\\Local\\Packages\\PythonSoftwareFoundation.Python.3.10_qbz5n2kfra8p0\\LocalCache\\local-packages\\Python310\\site-packages\\matplotlib\\axis.py:1383\u001b[0m, in \u001b[0;36mAxis.draw\u001b[1;34m(self, renderer, *args, **kwargs)\u001b[0m\n\u001b[0;32m   1380\u001b[0m     tick\u001b[39m.\u001b[39mdraw(renderer)\n\u001b[0;32m   1382\u001b[0m \u001b[39m# Shift label away from axes to avoid overlapping ticklabels.\u001b[39;00m\n\u001b[1;32m-> 1383\u001b[0m \u001b[39mself\u001b[39;49m\u001b[39m.\u001b[39;49m_update_label_position(renderer)\n\u001b[0;32m   1384\u001b[0m \u001b[39mself\u001b[39m\u001b[39m.\u001b[39mlabel\u001b[39m.\u001b[39mdraw(renderer)\n\u001b[0;32m   1386\u001b[0m \u001b[39mself\u001b[39m\u001b[39m.\u001b[39m_update_offset_text_position(tlb1, tlb2)\n",
      "File \u001b[1;32m~\\AppData\\Local\\Packages\\PythonSoftwareFoundation.Python.3.10_qbz5n2kfra8p0\\LocalCache\\local-packages\\Python310\\site-packages\\matplotlib\\axis.py:2304\u001b[0m, in \u001b[0;36mXAxis._update_label_position\u001b[1;34m(self, renderer)\u001b[0m\n\u001b[0;32m   2300\u001b[0m     \u001b[39mreturn\u001b[39;00m\n\u001b[0;32m   2302\u001b[0m \u001b[39m# get bounding boxes for this axis and any siblings\u001b[39;00m\n\u001b[0;32m   2303\u001b[0m \u001b[39m# that have been set by `fig.align_xlabels()`\u001b[39;00m\n\u001b[1;32m-> 2304\u001b[0m bboxes, bboxes2 \u001b[39m=\u001b[39m \u001b[39mself\u001b[39;49m\u001b[39m.\u001b[39;49m_get_tick_boxes_siblings(renderer\u001b[39m=\u001b[39;49mrenderer)\n\u001b[0;32m   2306\u001b[0m x, y \u001b[39m=\u001b[39m \u001b[39mself\u001b[39m\u001b[39m.\u001b[39mlabel\u001b[39m.\u001b[39mget_position()\n\u001b[0;32m   2307\u001b[0m \u001b[39mif\u001b[39;00m \u001b[39mself\u001b[39m\u001b[39m.\u001b[39mlabel_position \u001b[39m==\u001b[39m \u001b[39m'\u001b[39m\u001b[39mbottom\u001b[39m\u001b[39m'\u001b[39m:\n",
      "File \u001b[1;32m~\\AppData\\Local\\Packages\\PythonSoftwareFoundation.Python.3.10_qbz5n2kfra8p0\\LocalCache\\local-packages\\Python310\\site-packages\\matplotlib\\axis.py:2100\u001b[0m, in \u001b[0;36mAxis._get_tick_boxes_siblings\u001b[1;34m(self, renderer)\u001b[0m\n\u001b[0;32m   2098\u001b[0m axis \u001b[39m=\u001b[39m \u001b[39mgetattr\u001b[39m(ax, \u001b[39mf\u001b[39m\u001b[39m\"\u001b[39m\u001b[39m{\u001b[39;00maxis_name\u001b[39m}\u001b[39;00m\u001b[39maxis\u001b[39m\u001b[39m\"\u001b[39m)\n\u001b[0;32m   2099\u001b[0m ticks_to_draw \u001b[39m=\u001b[39m axis\u001b[39m.\u001b[39m_update_ticks()\n\u001b[1;32m-> 2100\u001b[0m tlb, tlb2 \u001b[39m=\u001b[39m axis\u001b[39m.\u001b[39;49m_get_ticklabel_bboxes(ticks_to_draw, renderer)\n\u001b[0;32m   2101\u001b[0m bboxes\u001b[39m.\u001b[39mextend(tlb)\n\u001b[0;32m   2102\u001b[0m bboxes2\u001b[39m.\u001b[39mextend(tlb2)\n",
      "File \u001b[1;32m~\\AppData\\Local\\Packages\\PythonSoftwareFoundation.Python.3.10_qbz5n2kfra8p0\\LocalCache\\local-packages\\Python310\\site-packages\\matplotlib\\axis.py:1304\u001b[0m, in \u001b[0;36mAxis._get_ticklabel_bboxes\u001b[1;34m(self, ticks, renderer)\u001b[0m\n\u001b[0;32m   1302\u001b[0m \u001b[39mif\u001b[39;00m renderer \u001b[39mis\u001b[39;00m \u001b[39mNone\u001b[39;00m:\n\u001b[0;32m   1303\u001b[0m     renderer \u001b[39m=\u001b[39m \u001b[39mself\u001b[39m\u001b[39m.\u001b[39mfigure\u001b[39m.\u001b[39m_get_renderer()\n\u001b[1;32m-> 1304\u001b[0m \u001b[39mreturn\u001b[39;00m ([tick\u001b[39m.\u001b[39mlabel1\u001b[39m.\u001b[39mget_window_extent(renderer)\n\u001b[0;32m   1305\u001b[0m          \u001b[39mfor\u001b[39;00m tick \u001b[39min\u001b[39;00m ticks \u001b[39mif\u001b[39;00m tick\u001b[39m.\u001b[39mlabel1\u001b[39m.\u001b[39mget_visible()],\n\u001b[0;32m   1306\u001b[0m         [tick\u001b[39m.\u001b[39mlabel2\u001b[39m.\u001b[39mget_window_extent(renderer)\n\u001b[0;32m   1307\u001b[0m          \u001b[39mfor\u001b[39;00m tick \u001b[39min\u001b[39;00m ticks \u001b[39mif\u001b[39;00m tick\u001b[39m.\u001b[39mlabel2\u001b[39m.\u001b[39mget_visible()])\n",
      "File \u001b[1;32m~\\AppData\\Local\\Packages\\PythonSoftwareFoundation.Python.3.10_qbz5n2kfra8p0\\LocalCache\\local-packages\\Python310\\site-packages\\matplotlib\\axis.py:1304\u001b[0m, in \u001b[0;36m<listcomp>\u001b[1;34m(.0)\u001b[0m\n\u001b[0;32m   1302\u001b[0m \u001b[39mif\u001b[39;00m renderer \u001b[39mis\u001b[39;00m \u001b[39mNone\u001b[39;00m:\n\u001b[0;32m   1303\u001b[0m     renderer \u001b[39m=\u001b[39m \u001b[39mself\u001b[39m\u001b[39m.\u001b[39mfigure\u001b[39m.\u001b[39m_get_renderer()\n\u001b[1;32m-> 1304\u001b[0m \u001b[39mreturn\u001b[39;00m ([tick\u001b[39m.\u001b[39;49mlabel1\u001b[39m.\u001b[39;49mget_window_extent(renderer)\n\u001b[0;32m   1305\u001b[0m          \u001b[39mfor\u001b[39;00m tick \u001b[39min\u001b[39;00m ticks \u001b[39mif\u001b[39;00m tick\u001b[39m.\u001b[39mlabel1\u001b[39m.\u001b[39mget_visible()],\n\u001b[0;32m   1306\u001b[0m         [tick\u001b[39m.\u001b[39mlabel2\u001b[39m.\u001b[39mget_window_extent(renderer)\n\u001b[0;32m   1307\u001b[0m          \u001b[39mfor\u001b[39;00m tick \u001b[39min\u001b[39;00m ticks \u001b[39mif\u001b[39;00m tick\u001b[39m.\u001b[39mlabel2\u001b[39m.\u001b[39mget_visible()])\n",
      "File \u001b[1;32m~\\AppData\\Local\\Packages\\PythonSoftwareFoundation.Python.3.10_qbz5n2kfra8p0\\LocalCache\\local-packages\\Python310\\site-packages\\matplotlib\\text.py:961\u001b[0m, in \u001b[0;36mText.get_window_extent\u001b[1;34m(self, renderer, dpi)\u001b[0m\n\u001b[0;32m    959\u001b[0m bbox, info, descent \u001b[39m=\u001b[39m \u001b[39mself\u001b[39m\u001b[39m.\u001b[39m_get_layout(\u001b[39mself\u001b[39m\u001b[39m.\u001b[39m_renderer)\n\u001b[0;32m    960\u001b[0m x, y \u001b[39m=\u001b[39m \u001b[39mself\u001b[39m\u001b[39m.\u001b[39mget_unitless_position()\n\u001b[1;32m--> 961\u001b[0m x, y \u001b[39m=\u001b[39m \u001b[39mself\u001b[39;49m\u001b[39m.\u001b[39;49mget_transform()\u001b[39m.\u001b[39;49mtransform((x, y))\n\u001b[0;32m    962\u001b[0m bbox \u001b[39m=\u001b[39m bbox\u001b[39m.\u001b[39mtranslated(x, y)\n\u001b[0;32m    963\u001b[0m \u001b[39mreturn\u001b[39;00m bbox\n",
      "File \u001b[1;32m~\\AppData\\Local\\Packages\\PythonSoftwareFoundation.Python.3.10_qbz5n2kfra8p0\\LocalCache\\local-packages\\Python310\\site-packages\\matplotlib\\transforms.py:1490\u001b[0m, in \u001b[0;36mTransform.transform\u001b[1;34m(self, values)\u001b[0m\n\u001b[0;32m   1487\u001b[0m values \u001b[39m=\u001b[39m values\u001b[39m.\u001b[39mreshape((\u001b[39m-\u001b[39m\u001b[39m1\u001b[39m, \u001b[39mself\u001b[39m\u001b[39m.\u001b[39minput_dims))\n\u001b[0;32m   1489\u001b[0m \u001b[39m# Transform the values\u001b[39;00m\n\u001b[1;32m-> 1490\u001b[0m res \u001b[39m=\u001b[39m \u001b[39mself\u001b[39;49m\u001b[39m.\u001b[39;49mtransform_affine(\u001b[39mself\u001b[39;49m\u001b[39m.\u001b[39;49mtransform_non_affine(values))\n\u001b[0;32m   1492\u001b[0m \u001b[39m# Convert the result back to the shape of the input values.\u001b[39;00m\n\u001b[0;32m   1493\u001b[0m \u001b[39mif\u001b[39;00m ndim \u001b[39m==\u001b[39m \u001b[39m0\u001b[39m:\n",
      "File \u001b[1;32m~\\AppData\\Local\\Packages\\PythonSoftwareFoundation.Python.3.10_qbz5n2kfra8p0\\LocalCache\\local-packages\\Python310\\site-packages\\matplotlib\\transforms.py:2415\u001b[0m, in \u001b[0;36mCompositeGenericTransform.transform_affine\u001b[1;34m(self, points)\u001b[0m\n\u001b[0;32m   2413\u001b[0m \u001b[39mdef\u001b[39;00m \u001b[39mtransform_affine\u001b[39m(\u001b[39mself\u001b[39m, points):\n\u001b[0;32m   2414\u001b[0m     \u001b[39m# docstring inherited\u001b[39;00m\n\u001b[1;32m-> 2415\u001b[0m     \u001b[39mreturn\u001b[39;00m \u001b[39mself\u001b[39;49m\u001b[39m.\u001b[39;49mget_affine()\u001b[39m.\u001b[39mtransform(points)\n",
      "File \u001b[1;32m~\\AppData\\Local\\Packages\\PythonSoftwareFoundation.Python.3.10_qbz5n2kfra8p0\\LocalCache\\local-packages\\Python310\\site-packages\\matplotlib\\transforms.py:2441\u001b[0m, in \u001b[0;36mCompositeGenericTransform.get_affine\u001b[1;34m(self)\u001b[0m\n\u001b[0;32m   2439\u001b[0m     \u001b[39mreturn\u001b[39;00m \u001b[39mself\u001b[39m\u001b[39m.\u001b[39m_b\u001b[39m.\u001b[39mget_affine()\n\u001b[0;32m   2440\u001b[0m \u001b[39melse\u001b[39;00m:\n\u001b[1;32m-> 2441\u001b[0m     \u001b[39mreturn\u001b[39;00m Affine2D(np\u001b[39m.\u001b[39;49mdot(\u001b[39mself\u001b[39;49m\u001b[39m.\u001b[39;49m_b\u001b[39m.\u001b[39;49mget_affine()\u001b[39m.\u001b[39;49mget_matrix(),\n\u001b[0;32m   2442\u001b[0m                            \u001b[39mself\u001b[39;49m\u001b[39m.\u001b[39;49m_a\u001b[39m.\u001b[39;49mget_affine()\u001b[39m.\u001b[39;49mget_matrix()))\n",
      "File \u001b[1;32m~\\AppData\\Local\\Packages\\PythonSoftwareFoundation.Python.3.10_qbz5n2kfra8p0\\LocalCache\\local-packages\\Python310\\site-packages\\matplotlib\\transforms.py:1895\u001b[0m, in \u001b[0;36mAffine2D.__init__\u001b[1;34m(self, matrix, **kwargs)\u001b[0m\n\u001b[0;32m   1892\u001b[0m \u001b[39mif\u001b[39;00m matrix \u001b[39mis\u001b[39;00m \u001b[39mNone\u001b[39;00m:\n\u001b[0;32m   1893\u001b[0m     \u001b[39m# A bit faster than np.identity(3).\u001b[39;00m\n\u001b[0;32m   1894\u001b[0m     matrix \u001b[39m=\u001b[39m IdentityTransform\u001b[39m.\u001b[39m_mtx\n\u001b[1;32m-> 1895\u001b[0m \u001b[39mself\u001b[39m\u001b[39m.\u001b[39m_mtx \u001b[39m=\u001b[39m matrix\u001b[39m.\u001b[39;49mcopy()\n\u001b[0;32m   1896\u001b[0m \u001b[39mself\u001b[39m\u001b[39m.\u001b[39m_invalid \u001b[39m=\u001b[39m \u001b[39m0\u001b[39m\n",
      "\u001b[1;31mKeyboardInterrupt\u001b[0m: "
     ]
    }
   ],
   "source": [
    "import matplotlib\n",
    "\n",
    "# plot a Stacked Bar Chart using matplotlib\n",
    "small_final_df.plot(\n",
    "  x = 'fdicregn', \n",
    "  kind = 'bar', \n",
    "  stacked = True, \n",
    "  title = 'Percentage Stacked Bar Graph', \n",
    "  mark_right = True) \n",
    "\n",
    "\"\"\"\n",
    "df_total = df[\"Studied\"] + df[\"Slept\"] + df[\"Other\"]\n",
    "df_rel = df[df.columns[1:]].div(df_total, 0)*100\n",
    "  \n",
    "for n in df_rel:\n",
    "    for i, (cs, ab, pc) in enumerate(zip(df.iloc[:, 1:].cumsum(1)[n], \n",
    "                                         df[n], df_rel[n])):\n",
    "        plt.text(cs - ab / 2, i, str(np.round(pc, 1)) + '%', \n",
    "                 va = 'center', ha = 'center')\n",
    "\"\"\""
   ]
  }
 ],
 "metadata": {
  "kernelspec": {
   "display_name": "Python 3.10.9 64-bit (microsoft store)",
   "language": "python",
   "name": "python3"
  },
  "language_info": {
   "codemirror_mode": {
    "name": "ipython",
    "version": 3
   },
   "file_extension": ".py",
   "mimetype": "text/x-python",
   "name": "python",
   "nbconvert_exporter": "python",
   "pygments_lexer": "ipython3",
   "version": "3.10.10"
  },
  "orig_nbformat": 4,
  "vscode": {
   "interpreter": {
    "hash": "c0589475581bafe2bbc330412b8cf2cd44fed02eacf7679fc9db622cc240f316"
   }
  }
 },
 "nbformat": 4,
 "nbformat_minor": 2
}
